{
 "cells": [
  {
   "cell_type": "code",
   "execution_count": 17,
   "id": "6ad4f0e2",
   "metadata": {},
   "outputs": [],
   "source": [
    "import pandas as pd\n",
    "import yt_dlp"
   ]
  },
  {
   "cell_type": "code",
   "execution_count": 18,
   "id": "1c63e7f4",
   "metadata": {},
   "outputs": [],
   "source": [
    "def scrape_youtube(video_url):\n",
    "    ydl_opts = {\n",
    "        \"quiet\": True,\n",
    "        \"skip_download\": True,  # we only want metadata\n",
    "    }\n",
    "\n",
    "    with yt_dlp.YoutubeDL(ydl_opts) as ydl:\n",
    "        info = ydl.extract_info(video_url, download=False)\n",
    "        \n",
    "        video_data = {\n",
    "            \"Title\": info.get(\"title\"),\n",
    "            \"Channel\": info.get(\"uploader\"),\n",
    "            \"Description\": info.get(\"description\")[:500],\n",
    "            \"Publish Date\": info.get(\"upload_date\"),\n",
    "            \"Views\": info.get(\"view_count\"),\n",
    "        }\n",
    "        return video_data\n"
   ]
  },
  {
   "cell_type": "code",
   "execution_count": 19,
   "id": "2311c673",
   "metadata": {},
   "outputs": [
    {
     "name": "stderr",
     "output_type": "stream",
     "text": [
      "WARNING: ffmpeg not found. The downloaded format may not be the best available. Installing ffmpeg is strongly recommended: https://github.com/yt-dlp/yt-dlp#dependencies\n"
     ]
    }
   ],
   "source": [
    "video_url = \"https://www.youtube.com/watch?v=dQw4w9WgXcQ\"\n",
    "datas = scrape_youtube(video_url)\n",
    "df = pd.DataFrame([datas])"
   ]
  },
  {
   "cell_type": "code",
   "execution_count": 20,
   "id": "d9713269",
   "metadata": {},
   "outputs": [],
   "source": [
    "df['Publish Date'] = df['Publish Date'].astype('datetime64[ns]')"
   ]
  },
  {
   "cell_type": "code",
   "execution_count": 21,
   "id": "2053b9ef",
   "metadata": {},
   "outputs": [
    {
     "data": {
      "text/html": [
       "<div>\n",
       "<style scoped>\n",
       "    .dataframe tbody tr th:only-of-type {\n",
       "        vertical-align: middle;\n",
       "    }\n",
       "\n",
       "    .dataframe tbody tr th {\n",
       "        vertical-align: top;\n",
       "    }\n",
       "\n",
       "    .dataframe thead th {\n",
       "        text-align: right;\n",
       "    }\n",
       "</style>\n",
       "<table border=\"1\" class=\"dataframe\">\n",
       "  <thead>\n",
       "    <tr style=\"text-align: right;\">\n",
       "      <th></th>\n",
       "      <th>Title</th>\n",
       "      <th>Channel</th>\n",
       "      <th>Description</th>\n",
       "      <th>Publish Date</th>\n",
       "      <th>Views</th>\n",
       "    </tr>\n",
       "  </thead>\n",
       "  <tbody>\n",
       "    <tr>\n",
       "      <th>0</th>\n",
       "      <td>Rick Astley - Never Gonna Give You Up (Officia...</td>\n",
       "      <td>Rick Astley</td>\n",
       "      <td>The official video for “Never Gonna Give You U...</td>\n",
       "      <td>2009-10-25</td>\n",
       "      <td>1695231113</td>\n",
       "    </tr>\n",
       "  </tbody>\n",
       "</table>\n",
       "</div>"
      ],
      "text/plain": [
       "                                               Title      Channel  \\\n",
       "0  Rick Astley - Never Gonna Give You Up (Officia...  Rick Astley   \n",
       "\n",
       "                                         Description Publish Date       Views  \n",
       "0  The official video for “Never Gonna Give You U...   2009-10-25  1695231113  "
      ]
     },
     "execution_count": 21,
     "metadata": {},
     "output_type": "execute_result"
    }
   ],
   "source": [
    "df"
   ]
  },
  {
   "cell_type": "code",
   "execution_count": null,
   "id": "dbd99df1",
   "metadata": {},
   "outputs": [],
   "source": []
  },
  {
   "cell_type": "code",
   "execution_count": null,
   "id": "98a1d15f-376c-4ea2-a731-425ac2f66cae",
   "metadata": {},
   "outputs": [],
   "source": []
  }
 ],
 "metadata": {
  "kernelspec": {
   "display_name": "Python [conda env:base] *",
   "language": "python",
   "name": "conda-base-py"
  },
  "language_info": {
   "codemirror_mode": {
    "name": "ipython",
    "version": 3
   },
   "file_extension": ".py",
   "mimetype": "text/x-python",
   "name": "python",
   "nbconvert_exporter": "python",
   "pygments_lexer": "ipython3",
   "version": "3.12.7"
  }
 },
 "nbformat": 4,
 "nbformat_minor": 5
}
